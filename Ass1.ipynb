{
 "cells": [
  {
   "cell_type": "code",
   "execution_count": 12,
   "metadata": {},
   "outputs": [],
   "source": [
    "import pandas as pd"
   ]
  },
  {
   "cell_type": "code",
   "execution_count": 13,
   "metadata": {},
   "outputs": [
    {
     "name": "stdout",
     "output_type": "stream",
     "text": [
      "                   Unnamed: 0  Very interested  Somewhat interested  \\\n",
      "0   Big Data (Spark / Hadoop)             1332                  729   \n",
      "1  Data Analysis / Statistics             1688                  444   \n",
      "2             Data Journalism              429                 1081   \n",
      "3          Data Visualization             1340                  734   \n",
      "4               Deep Learning             1263                  770   \n",
      "5            Machine Learning             1629                  477   \n",
      "\n",
      "   Not interested  \n",
      "0             127  \n",
      "1              60  \n",
      "2             610  \n",
      "3             102  \n",
      "4             136  \n",
      "5              74  \n"
     ]
    }
   ],
   "source": [
    "result = pd.read_csv('Topic_Survey_Assignment.csv')\n",
    "print(result)"
   ]
  },
  {
   "cell_type": "code",
   "execution_count": 14,
   "metadata": {},
   "outputs": [
    {
     "name": "stdout",
     "output_type": "stream",
     "text": [
      "                   Unnamed: 0  Very interested  Somewhat interested  \\\n",
      "0   Big Data (Spark / Hadoop)             1332                  729   \n",
      "1  Data Analysis / Statistics             1688                  444   \n",
      "2             Data Journalism              429                 1081   \n",
      "3          Data Visualization             1340                  734   \n",
      "4               Deep Learning             1263                  770   \n",
      "5            Machine Learning             1629                  477   \n",
      "\n",
      "   Not interested  \n",
      "0             127  \n",
      "1              60  \n",
      "2             610  \n",
      "3             102  \n",
      "4             136  \n",
      "5              74  \n"
     ]
    }
   ],
   "source": [
    "import pandas as pd\n",
    "result = pd.read_csv('Topic_Survey_Assignment.csv')\n",
    "print(result)"
   ]
  },
  {
   "cell_type": "code",
   "execution_count": 5,
   "metadata": {},
   "outputs": [
    {
     "name": "stdout",
     "output_type": "stream",
     "text": [
      "  ,Very interested,Somewhat interested,Not interested\n",
      "0             Big Data (Spark / Hadoop),1332,729,127 \n",
      "1             Data Analysis / Statistics,1688,444,60 \n",
      "2                       Data Journalism,429,1081,610 \n",
      "3                    Data Visualization,1340,734,102 \n",
      "4                         Deep Learning,1263,770,136 \n",
      "5                       Machine Learning,1629,477,74 \n",
      "<class 'pandas.core.indexes.range.RangeIndex'>\n"
     ]
    },
    {
     "name": "stderr",
     "output_type": "stream",
     "text": [
      "/home/jupyterlab/conda/lib/python3.6/site-packages/ipykernel_launcher.py:2: ParserWarning: Falling back to the 'python' engine because the 'c' engine does not support regex separators (separators > 1 char and different from '\\s+' are interpreted as regex); you can avoid this warning by specifying engine='python'.\n",
      "  \n"
     ]
    }
   ],
   "source": [
    "import pandas as pd\n",
    "result = pd.read_csv('Topic_Survey_Assignment.csv','index_col = True')\n",
    "print(result)\n",
    "print(type(result.index))"
   ]
  },
  {
   "cell_type": "code",
   "execution_count": 41,
   "metadata": {},
   "outputs": [
    {
     "ename": "TypeError",
     "evalue": "'str' object cannot be interpreted as an integer",
     "output_type": "error",
     "traceback": [
      "\u001b[0;31m---------------------------------------------------------------------------\u001b[0m",
      "\u001b[0;31mTypeError\u001b[0m                                 Traceback (most recent call last)",
      "\u001b[0;32m<ipython-input-41-801aa9641a77>\u001b[0m in \u001b[0;36m<module>\u001b[0;34m\u001b[0m\n\u001b[1;32m      3\u001b[0m \u001b[0;32mimport\u001b[0m \u001b[0mmatplotlib\u001b[0m\u001b[0;34m.\u001b[0m\u001b[0mpyplot\u001b[0m \u001b[0;32mas\u001b[0m \u001b[0mplt\u001b[0m\u001b[0;34m\u001b[0m\u001b[0;34m\u001b[0m\u001b[0m\n\u001b[1;32m      4\u001b[0m \u001b[0mbarchart\u001b[0m \u001b[0;34m=\u001b[0m \u001b[0mpd\u001b[0m\u001b[0;34m.\u001b[0m\u001b[0mread_csv\u001b[0m\u001b[0;34m(\u001b[0m\u001b[0;34m'Topic_Survey_Assignment.csv'\u001b[0m\u001b[0;34m)\u001b[0m\u001b[0;34m\u001b[0m\u001b[0;34m\u001b[0m\u001b[0m\n\u001b[0;32m----> 5\u001b[0;31m \u001b[0mtopic\u001b[0m \u001b[0;34m=\u001b[0m \u001b[0mlist\u001b[0m\u001b[0;34m(\u001b[0m\u001b[0mmap\u001b[0m\u001b[0;34m(\u001b[0m\u001b[0mstr\u001b[0m\u001b[0;34m,\u001b[0m\u001b[0mrange\u001b[0m\u001b[0;34m(\u001b[0m\u001b[0;34m'Big Data (Spark / Hadoop'\u001b[0m\u001b[0;34m,\u001b[0m\u001b[0;34m'Machine Learning'\u001b[0m\u001b[0;34m)\u001b[0m\u001b[0;34m)\u001b[0m\u001b[0;34m)\u001b[0m\u001b[0;34m\u001b[0m\u001b[0;34m\u001b[0m\u001b[0m\n\u001b[0m\u001b[1;32m      6\u001b[0m \u001b[0;31m#barchart.columns.values\u001b[0m\u001b[0;34m\u001b[0m\u001b[0;34m\u001b[0m\u001b[0;34m\u001b[0m\u001b[0m\n\u001b[1;32m      7\u001b[0m \u001b[0;31m#barchart.sort_values(by = 'Very interested',ascending=False, inplace=True, axis = 0)\u001b[0m\u001b[0;34m\u001b[0m\u001b[0;34m\u001b[0m\u001b[0;34m\u001b[0m\u001b[0m\n",
      "\u001b[0;31mTypeError\u001b[0m: 'str' object cannot be interpreted as an integer"
     ]
    }
   ],
   "source": [
    "import pandas as pd\n",
    "import matplotlib as mpl\n",
    "import matplotlib.pyplot as plt\n",
    "barchart = pd.read_csv('Topic_Survey_Assignment.csv')\n",
    "topic = list(map(str,range('Big Data (Spark / Hadoop','Machine Learning')))\n",
    "#barchart.columns.values\n",
    "#barchart.sort_values(by = 'Very interested',ascending=False, inplace=True, axis = 0)\n",
    "#barchart.loc(topic).plot(kind='bar', figsize=(10, 6), color=['mediumseagreen', 'skyblue', 'indianred'])\n",
    "#plt.title('Percentage of respondents interest in Data Science Areas')\n",
    "#barchart.rename(rows={'0':'Big Data (Spark / Hadoop)', '1':'Data Analysis / Statistics', '2':'Data Journalism', '3':'Data Visualization', '4':'Deep Learning', '5':'Machine Learning'}, inplace=True)\n",
    "#barchart.columns()\n",
    "#plt.show()\n",
    "\n"
   ]
  },
  {
   "cell_type": "code",
   "execution_count": null,
   "metadata": {},
   "outputs": [],
   "source": []
  },
  {
   "cell_type": "code",
   "execution_count": null,
   "metadata": {},
   "outputs": [],
   "source": []
  }
 ],
 "metadata": {
  "kernelspec": {
   "display_name": "Python 3",
   "language": "python",
   "name": "python3"
  },
  "language_info": {
   "codemirror_mode": {
    "name": "ipython",
    "version": 3
   },
   "file_extension": ".py",
   "mimetype": "text/x-python",
   "name": "python",
   "nbconvert_exporter": "python",
   "pygments_lexer": "ipython3",
   "version": "3.6.7"
  }
 },
 "nbformat": 4,
 "nbformat_minor": 4
}
